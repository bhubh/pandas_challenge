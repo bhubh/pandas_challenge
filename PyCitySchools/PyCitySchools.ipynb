{
 "cells": [
  {
   "cell_type": "code",
   "execution_count": null,
   "metadata": {},
   "outputs": [],
   "source": [
    "# Importing dependencies\n",
    "import pandas as pd\n",
    "\n",
    "#Giving file paths\n",
    "Schools = \"Resources/schools_complete.csv\"\n",
    "Students = \"Resources/students_complete.csv\"\n",
    "\n",
    "# reading schools and students data file using pandas dataframe\n",
    "schools_df = pd.read_csv(Schools)\n",
    "students_df = pd.read_csv(Students)\n"
   ]
  },
  {
   "cell_type": "code",
   "execution_count": null,
   "metadata": {},
   "outputs": [],
   "source": [
    "# combining the two dataframes into a single one\n",
    "schools_complete_df = pd.merge(students_df, schools_df, )"
   ]
  }
 ],
 "metadata": {
  "kernelspec": {
   "display_name": "Python [conda env:PythonData38] *",
   "language": "python",
   "name": "conda-env-PythonData38-py"
  },
  "language_info": {
   "codemirror_mode": {
    "name": "ipython",
    "version": 3
   },
   "file_extension": ".py",
   "mimetype": "text/x-python",
   "name": "python",
   "nbconvert_exporter": "python",
   "pygments_lexer": "ipython3",
   "version": "3.8.5"
  }
 },
 "nbformat": 4,
 "nbformat_minor": 4
}
